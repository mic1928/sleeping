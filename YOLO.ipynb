{
  "nbformat": 4,
  "nbformat_minor": 0,
  "metadata": {
    "colab": {
      "provenance": [],
      "gpuType": "T4"
    },
    "kernelspec": {
      "name": "python3",
      "display_name": "Python 3"
    },
    "language_info": {
      "name": "python"
    },
    "accelerator": "GPU"
  },
  "cells": [
    {
      "cell_type": "code",
      "execution_count": null,
      "metadata": {
        "id": "7oGx7nT3emui"
      },
      "outputs": [],
      "source": [
        "WORKING_DIR = '/content/tmp'\n",
        "!mkdir $WORKING_DIR\n",
        "%cd $WORKING_DIR"
      ]
    },
    {
      "cell_type": "code",
      "source": [
        "!git clone https://github.com/ultralytics/yolov5"
      ],
      "metadata": {
        "id": "XLrTKbPJfDc_"
      },
      "execution_count": null,
      "outputs": []
    },
    {
      "cell_type": "code",
      "source": [
        "%cd yolov5/\n",
        "!pip install --upgrade imageio pillow\n",
        "!pip install -qr requirements.txt"
      ],
      "metadata": {
        "id": "cU1cw_mnfKJJ"
      },
      "execution_count": null,
      "outputs": []
    },
    {
      "cell_type": "code",
      "source": [
        "!python train.py --batch 16 --epochs 100 --data data.yaml --weights yolov5s.pt"
      ],
      "metadata": {
        "id": "Gez2LVrwfyPx"
      },
      "execution_count": null,
      "outputs": []
    },
    {
      "cell_type": "code",
      "source": [
        "!python detect.py --source ../test/ --weights ./runs/train/exp/weights/best.pt --conf 0.1"
      ],
      "metadata": {
        "colab": {
          "base_uri": "https://localhost:8080/"
        },
        "id": "Fp1aexJvvEEq",
        "outputId": "a5da0777-d110-47e9-f21a-41fce9501443"
      },
      "execution_count": 10,
      "outputs": [
        {
          "output_type": "stream",
          "name": "stdout",
          "text": [
            "\u001b[34m\u001b[1mdetect: \u001b[0mweights=['yolov5m.pt'], source=data/images, data=data/coco128.yaml, imgsz=[640, 640], conf_thres=0.5, iou_thres=0.45, max_det=1000, device=, view_img=False, save_txt=False, save_csv=False, save_conf=False, save_crop=False, nosave=False, classes=None, agnostic_nms=False, augment=False, visualize=False, update=False, project=runs/detect, name=exp, exist_ok=False, line_thickness=3, hide_labels=False, hide_conf=False, half=False, dnn=False, vid_stride=1\n",
            "YOLOv5 🚀 v7.0-278-g050c72c Python-3.10.12 torch-2.1.0+cu121 CUDA:0 (Tesla T4, 15102MiB)\n",
            "\n",
            "Fusing layers... \n",
            "YOLOv5m summary: 290 layers, 21172173 parameters, 0 gradients, 48.9 GFLOPs\n",
            "image 1/2 /content/tmp/yolov5/data/images/bus.jpg: 640x480 4 persons, 1 bus, 55.7ms\n",
            "image 2/2 /content/tmp/yolov5/data/images/zidane.jpg: 384x640 2 persons, 1 tie, 53.3ms\n",
            "Speed: 0.5ms pre-process, 54.5ms inference, 247.7ms NMS per image at shape (1, 3, 640, 640)\n",
            "Results saved to \u001b[1mruns/detect/exp2\u001b[0m\n"
          ]
        }
      ]
    }
  ]
}